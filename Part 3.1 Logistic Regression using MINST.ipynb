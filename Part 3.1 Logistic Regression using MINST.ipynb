{
 "cells": [
  {
   "cell_type": "markdown",
   "metadata": {},
   "source": [
    "# Logistic Regression using MINST"
   ]
  },
  {
   "cell_type": "code",
   "execution_count": 32,
   "metadata": {},
   "outputs": [],
   "source": [
    "import numpy as np\n",
    "import matplotlib.pyplot as plt\n",
    "%matplotlib inline\n",
    "\n",
    "import torch\n",
    "import torch.nn as nn\n",
    "\n",
    "import torchvision\n",
    "from torchvision import transforms\n",
    "\n"
   ]
  },
  {
   "cell_type": "code",
   "execution_count": 33,
   "metadata": {},
   "outputs": [],
   "source": [
    "from torchvision.datasets import MNIST"
   ]
  },
  {
   "cell_type": "code",
   "execution_count": 35,
   "metadata": {},
   "outputs": [
    {
     "data": {
      "text/plain": [
       "60000"
      ]
     },
     "execution_count": 35,
     "metadata": {},
     "output_type": "execute_result"
    }
   ],
   "source": [
    "dataset = MNIST(root = 'DATA/', download=True)\n",
    "len(dataset)"
   ]
  },
  {
   "cell_type": "markdown",
   "metadata": {},
   "source": [
    "MNIST dataset contains \\\n",
    "60,000 training images = _train = True_ \\\n",
    "10,000 testing images = _train = False_\n"
   ]
  },
  {
   "cell_type": "code",
   "execution_count": 36,
   "metadata": {},
   "outputs": [
    {
     "name": "stdout",
     "output_type": "stream",
     "text": [
      "Training Data =  60000\n",
      "Testing Data =  10000\n"
     ]
    }
   ],
   "source": [
    "train_data = MNIST( 'DATA/', train = True)\n",
    "print('Training Data = ', len(train_data))\n",
    "\n",
    "test_data = MNIST( 'DATA/', train = False)\n",
    "print('Testing Data = ', len(test_data))"
   ]
  },
  {
   "cell_type": "code",
   "execution_count": 5,
   "metadata": {},
   "outputs": [
    {
     "data": {
      "image/png": "[encoded data removed]",
      "text/plain": [
       "<Figure size 432x288 with 1 Axes>"
      ]
     },
     "metadata": {
      "needs_background": "light"
     },
     "output_type": "display_data"
    }
   ],
   "source": [
    "img, label = train_data[0]\n",
    "ax = plt.imshow(img, cmap = 'gray')\n",
    "ax.set_label('label')"
   ]
  },
  {
   "cell_type": "code",
   "execution_count": 6,
   "metadata": {},
   "outputs": [
    {
     "name": "stdout",
     "output_type": "stream",
     "text": [
      "tensor(1.) tensor(0.)\n"
     ]
    },
    {
     "data": {
      "text/plain": [
       "<matplotlib.image.AxesImage at 0x7fc4a9c77fd0>"
      ]
     },
     "execution_count": 6,
     "metadata": {},
     "output_type": "execute_result"
    },
    {
     "data": {
      "image/png": "[encoded data removed]",
      "text/plain": [
       "<Figure size 432x288 with 2 Axes>"
      ]
     },
     "metadata": {
      "needs_background": "light"
     },
     "output_type": "display_data"
    }
   ],
   "source": [
    "# we'll use the ToTensor transform to convert images into PyTorch tensors.\n",
    "\n",
    "train_data = MNIST(root='Data/', train=True, transform=transforms.ToTensor())\n",
    "\n",
    "img, label = train_data[0]\n",
    "plt.subplot(121)\n",
    "plt.imshow(img[0], cmap='gray')\n",
    "\n",
    "print(torch.max(img), torch.min(img))\n",
    "\n",
    "plt.subplot(122)\n",
    "plt.imshow(img[0,10:15,10:15], cmap='gray')"
   ]
  },
  {
   "cell_type": "markdown",
   "metadata": {},
   "source": [
    "# DataLoader - Batching"
   ]
  },
  {
   "cell_type": "code",
   "execution_count": 7,
   "metadata": {},
   "outputs": [],
   "source": [
    "from torch.utils.data import DataLoader"
   ]
  },
  {
   "cell_type": "markdown",
   "metadata": {},
   "source": [
    "1. Make Data set Ready\n",
    "2. Generate Model (Forward pass)\n",
    "3. Calculate Loss and Optimize (Backpass)\n"
   ]
  },
  {
   "cell_type": "code",
   "execution_count": 8,
   "metadata": {},
   "outputs": [],
   "source": [
    "batch_size = 100\n",
    "\n",
    "train_loader = DataLoader(dataset=train_data, batch_size=batch_size, shuffle=True)\n",
    "\n",
    "test_loader = DataLoader(dataset= test_data, batch_size=batch_size)"
   ]
  },
  {
   "cell_type": "markdown",
   "metadata": {},
   "source": [
    "### Logistic Regression Model\n",
    "$(pred = x @ w^T + b)$\n",
    "\n",
    "From 60,000 training set:\\\n",
    "10,000 --> for **Validation Data Set**\\\n",
    "50,000 --> for **Training Data Set**"
   ]
  },
  {
   "cell_type": "code",
   "execution_count": 9,
   "metadata": {},
   "outputs": [],
   "source": [
    "from torch.utils.data import random_split"
   ]
  },
  {
   "cell_type": "code",
   "execution_count": 10,
   "metadata": {},
   "outputs": [
    {
     "name": "stdout",
     "output_type": "stream",
     "text": [
      "50000 10000\n"
     ]
    }
   ],
   "source": [
    "train_set, val_set = random_split(train_data, [50000, 10000])\n",
    "\n",
    "print(len(train_set), len(val_set))"
   ]
  },
  {
   "cell_type": "markdown",
   "metadata": {},
   "source": [
    "Each 1x28x28 image tensor needs to be flattened out into a vector of size 784 (28*28), before being passed into the model"
   ]
  },
  {
   "cell_type": "code",
   "execution_count": 11,
   "metadata": {},
   "outputs": [
    {
     "name": "stdout",
     "output_type": "stream",
     "text": [
      "Weights torch.Size([10, 784])\n",
      "bias torch.Size([10])\n"
     ]
    }
   ],
   "source": [
    "# Model\n",
    "\n",
    "input_size = 28*28\n",
    "n_classes = 10\n",
    "\n",
    "model = nn.Linear(input_size, n_classes)\n",
    "\n",
    "print('Weights', model.weight.shape)\n",
    "print('bias', model.bias.shape)"
   ]
  },
  {
   "cell_type": "code",
   "execution_count": 12,
   "metadata": {},
   "outputs": [],
   "source": [
    "# Check the data\n",
    "# for img, label in train_loader:\n",
    "#     print(img)\n",
    "#     print(img.shape)\n",
    "#     print(label)\n",
    "    \n",
    "#     # it gives an error of size missmatch: [2800 x 28]\n",
    "#     output=model(img) \n",
    "#     break"
   ]
  },
  {
   "cell_type": "markdown",
   "metadata": {},
   "source": [
    "## Define our Derived Model"
   ]
  },
  {
   "cell_type": "code",
   "execution_count": 13,
   "metadata": {},
   "outputs": [],
   "source": [
    "# We have to convert (1x28x28) into 784 size vector\n",
    "# We need to Flatten '.reshape'\n",
    "\n",
    "# Our own defined function:\n",
    "\n",
    "class MnistModel(nn.Module):\n",
    "    def __init__(self):\n",
    "        super().__init__()\n",
    "        self.linear = nn.Linear(input_size, n_classes)\n",
    "    \n",
    "    def fwd(self, img_flat):\n",
    "        img_flat = img_flat.reshape(-1, 784)\n",
    "        # -1 -> consider the first dimension from (100,1,28,28)\n",
    "        return self.linear(img_flat)"
   ]
  },
  {
   "cell_type": "code",
   "execution_count": 14,
   "metadata": {},
   "outputs": [
    {
     "name": "stdout",
     "output_type": "stream",
     "text": [
      "Weights torch.Size([10, 784])\n",
      "bias torch.Size([10])\n"
     ]
    },
    {
     "data": {
      "text/plain": [
       "[Parameter containing:\n",
       " tensor([[-2.1386e-02, -6.4187e-03,  2.1061e-02,  ..., -3.7937e-03,\n",
       "          -2.5735e-02, -2.0696e-03],\n",
       "         [ 1.3357e-02,  1.4827e-02, -2.1932e-02,  ...,  7.8543e-03,\n",
       "           2.7900e-02,  2.9369e-02],\n",
       "         [-2.5810e-02, -5.3822e-03,  2.3208e-02,  ..., -3.5403e-02,\n",
       "          -1.0144e-02,  3.4455e-02],\n",
       "         ...,\n",
       "         [ 1.9012e-02, -5.6665e-03, -5.6077e-03,  ...,  3.6664e-05,\n",
       "           1.9219e-03, -6.3595e-03],\n",
       "         [ 3.5403e-02, -2.1747e-02,  2.5800e-02,  ...,  1.4759e-03,\n",
       "          -2.2265e-02, -3.4509e-02],\n",
       "         [ 1.2166e-02,  1.4513e-02, -3.3587e-02,  ...,  5.2020e-03,\n",
       "          -9.5686e-03, -3.2238e-02]], requires_grad=True),\n",
       " Parameter containing:\n",
       " tensor([ 0.0106,  0.0101, -0.0162, -0.0230,  0.0342, -0.0257,  0.0328,  0.0179,\n",
       "          0.0107, -0.0051], requires_grad=True)]"
      ]
     },
     "execution_count": 14,
     "metadata": {},
     "output_type": "execute_result"
    }
   ],
   "source": [
    "print('Weights', model.weight.shape)\n",
    "print('bias', model.bias.shape)\n",
    "\n",
    "list(model.parameters())"
   ]
  },
  {
   "cell_type": "code",
   "execution_count": 15,
   "metadata": {},
   "outputs": [
    {
     "name": "stdout",
     "output_type": "stream",
     "text": [
      "torch.Size([100, 1, 28, 28])\n",
      "torch.Size([100])\n",
      "Output Shape torch.Size([100, 10])\n"
     ]
    }
   ],
   "source": [
    "# Use the MODEL\n",
    "model = MnistModel()\n",
    "\n",
    "# Check the data\n",
    "for img, label in train_loader:\n",
    "    print(img.shape)\n",
    "    print(label.shape)\n",
    "    # it gives an error of size missmatch: [2800 x 28]\n",
    "    output=model.fwd(img) \n",
    "    break\n",
    "    \n",
    "print('Output Shape', output.shape)"
   ]
  },
  {
   "cell_type": "code",
   "execution_count": 16,
   "metadata": {},
   "outputs": [
    {
     "data": {
      "text/plain": [
       "tensor([-0.2181, -0.0679, -0.0743,  0.0104, -0.0962,  0.0497,  0.1026, -0.1985,\n",
       "        -0.2884, -0.0262], grad_fn=<SelectBackward>)"
      ]
     },
     "execution_count": 16,
     "metadata": {},
     "output_type": "execute_result"
    }
   ],
   "source": [
    "output[0]"
   ]
  },
  {
   "cell_type": "markdown",
   "metadata": {},
   "source": [
    "### Negative outputs makes no sense\n",
    "Pass them through **SoftMax** function\\\n",
    "It brings all the values from 0-1\\\n"
   ]
  },
  {
   "cell_type": "code",
   "execution_count": 17,
   "metadata": {},
   "outputs": [
    {
     "data": {
      "text/plain": [
       "tensor([0.8041, 0.9344, 0.9284, 1.0105, 0.9083, 1.0510, 1.1081, 0.8199, 0.7494,\n",
       "        0.9741], grad_fn=<ExpBackward>)"
      ]
     },
     "execution_count": 17,
     "metadata": {},
     "output_type": "execute_result"
    }
   ],
   "source": [
    "numerator = torch.exp(output[0])\n",
    "numerator\n",
    "\n",
    "# Negative values are gone\n",
    "# but still not between 0 - 1\n",
    "# as Probability adds to = 1"
   ]
  },
  {
   "cell_type": "code",
   "execution_count": 18,
   "metadata": {},
   "outputs": [
    {
     "name": "stdout",
     "output_type": "stream",
     "text": [
      "torch.Size([10])\n",
      "tensor([0.0866, 0.1006, 0.1000, 0.1088, 0.0978, 0.1132, 0.1193, 0.0883, 0.0807,\n",
      "        0.1049], grad_fn=<DivBackward0>)\n"
     ]
    }
   ],
   "source": [
    "# SoftMax Equation\n",
    "\n",
    "probability = numerator/torch.sum(numerator)\n",
    "print(probability.shape)\n",
    "print(probability)"
   ]
  },
  {
   "cell_type": "markdown",
   "metadata": {},
   "source": [
    "## PyTorch SoftMax function"
   ]
  },
  {
   "cell_type": "code",
   "execution_count": 19,
   "metadata": {},
   "outputs": [],
   "source": [
    "import torch.nn.functional as F"
   ]
  },
  {
   "cell_type": "code",
   "execution_count": 20,
   "metadata": {},
   "outputs": [
    {
     "name": "stdout",
     "output_type": "stream",
     "text": [
      "tensor([0.0866, 0.1006, 0.1000, 0.1088, 0.0978, 0.1132, 0.1193, 0.0883, 0.0807,\n",
      "        0.1049], grad_fn=<SelectBackward>)\n"
     ]
    }
   ],
   "source": [
    "# size = (batch_size, 1, 28,28) => torch.Size([100, 1, 28, 28])\n",
    "probability = F.softmax(output, dim=1)  # as dim=0 are the dim of batch_size, We want to apply across 10 digits\n",
    "\n",
    "print(probability[0])"
   ]
  },
  {
   "cell_type": "markdown",
   "metadata": {},
   "source": [
    "### Now we pick the Highest Probability value"
   ]
  },
  {
   "cell_type": "code",
   "execution_count": 21,
   "metadata": {},
   "outputs": [
    {
     "name": "stdout",
     "output_type": "stream",
     "text": [
      "tensor([0.1193, 0.1356, 0.1320, 0.1333, 0.1385, 0.1424, 0.1356, 0.1312, 0.1451,\n",
      "        0.1217, 0.1181, 0.1250, 0.1289, 0.1355, 0.1484, 0.1338, 0.1548, 0.1381,\n",
      "        0.1422, 0.1705, 0.1263, 0.1512, 0.1115, 0.1489, 0.1450, 0.1390, 0.1378,\n",
      "        0.1496, 0.1428, 0.1595, 0.1278, 0.1427, 0.1268, 0.1416, 0.1295, 0.1485,\n",
      "        0.1262, 0.1236, 0.1425, 0.1472, 0.1329, 0.1602, 0.1448, 0.1310, 0.1328,\n",
      "        0.1194, 0.1326, 0.1177, 0.1387, 0.1203, 0.1518, 0.1611, 0.1413, 0.1268,\n",
      "        0.1326, 0.1390, 0.1302, 0.1258, 0.1221, 0.1326, 0.1279, 0.1300, 0.1291,\n",
      "        0.1319, 0.1282, 0.1803, 0.1276, 0.1702, 0.1481, 0.1623, 0.1136, 0.1218,\n",
      "        0.1300, 0.1255, 0.1265, 0.1529, 0.1174, 0.1655, 0.1281, 0.1264, 0.1539,\n",
      "        0.1265, 0.1582, 0.1341, 0.1342, 0.2024, 0.1096, 0.1213, 0.1245, 0.1763,\n",
      "        0.1428, 0.1215, 0.1266, 0.1307, 0.1245, 0.1311, 0.1210, 0.1418, 0.1227,\n",
      "        0.1568], grad_fn=<MaxBackward0>)\n",
      "torch.Size([100])\n"
     ]
    }
   ],
   "source": [
    "max_prob, max_pos = torch.max(probability, dim=1)\n",
    "\n",
    "print(max_prob)\n",
    "print(max_pos.shape)"
   ]
  },
  {
   "cell_type": "code",
   "execution_count": 22,
   "metadata": {},
   "outputs": [
    {
     "name": "stdout",
     "output_type": "stream",
     "text": [
      "tensor([6, 6, 3, 9, 6, 6, 6, 2, 2, 8, 3, 3, 8, 6, 2, 6, 6, 2, 6, 6, 0, 6, 6, 6,\n",
      "        9, 6, 9, 6, 2, 2, 3, 6, 2, 6, 6, 6, 9, 9, 6, 6, 6, 6, 9, 3, 6, 6, 9, 6,\n",
      "        6, 9, 6, 6, 6, 6, 9, 6, 2, 9, 8, 9, 9, 9, 6, 6, 9, 6, 2, 6, 6, 6, 2, 3,\n",
      "        3, 9, 2, 6, 3, 6, 6, 9, 6, 8, 6, 9, 9, 6, 9, 8, 7, 6, 9, 2, 7, 9, 9, 6,\n",
      "        8, 6, 5, 6])\n",
      "tensor([5, 4, 9, 2, 0, 9, 2, 7, 7, 1, 7, 1, 1, 4, 7, 2, 3, 9, 3, 6, 7, 1, 5, 0,\n",
      "        9, 9, 5, 7, 9, 2, 7, 8, 8, 3, 5, 2, 0, 5, 0, 3, 5, 2, 4, 4, 5, 8, 4, 0,\n",
      "        1, 1, 7, 0, 0, 9, 1, 1, 5, 6, 1, 9, 1, 8, 6, 3, 5, 8, 9, 6, 2, 6, 7, 5,\n",
      "        7, 1, 9, 4, 1, 7, 9, 1, 6, 1, 2, 1, 3, 6, 5, 1, 5, 8, 8, 4, 0, 1, 8, 7,\n",
      "        3, 9, 7, 1])\n"
     ]
    }
   ],
   "source": [
    "print(max_pos)\n",
    "print(label)"
   ]
  },
  {
   "cell_type": "markdown",
   "metadata": {},
   "source": [
    "## Accuracy"
   ]
  },
  {
   "cell_type": "code",
   "execution_count": 23,
   "metadata": {},
   "outputs": [],
   "source": [
    "def accuracy(output, labels):\n",
    "    _, prediction = torch.max(output, dim=1)\n",
    "    accu = torch.tensor(torch.sum(prediction == label).item()/len(prediction))\n",
    "    # correct prediction/ total predictions = accuracy\n",
    "    print(\"Accuracy = \", accu)"
   ]
  },
  {
   "cell_type": "code",
   "execution_count": 24,
   "metadata": {},
   "outputs": [
    {
     "name": "stdout",
     "output_type": "stream",
     "text": [
      "Accuracy =  tensor(0.0900)\n"
     ]
    }
   ],
   "source": [
    "accuracy(output, label)"
   ]
  },
  {
   "cell_type": "markdown",
   "metadata": {},
   "source": [
    "### Problems:\n",
    "Cannot be used as a **Loss Function**\n",
    "1. == is not differentiable\n",
    "2. does not take consideration of actual probabilities - it does not look for prob for true value\n",
    "\n",
    "### Cross-Entropy\n",
    "Take the logarithm of probability\\\n",
    "Log(high prob) = small -ve value\\\n",
    "Log(low prob) = large -ve value\\\n",
    "Function is differentiable"
   ]
  },
  {
   "cell_type": "code",
   "execution_count": 28,
   "metadata": {},
   "outputs": [
    {
     "name": "stdout",
     "output_type": "stream",
     "text": [
      "tensor(2.3502, grad_fn=<NllLossBackward>)\n"
     ]
    }
   ],
   "source": [
    "loss_cross = F.cross_entropy(output, label)\n",
    "print(loss_cross)"
   ]
  },
  {
   "cell_type": "code",
   "execution_count": null,
   "metadata": {},
   "outputs": [],
   "source": []
  },
  {
   "cell_type": "code",
   "execution_count": null,
   "metadata": {},
   "outputs": [],
   "source": []
  },
  {
   "cell_type": "code",
   "execution_count": null,
   "metadata": {},
   "outputs": [],
   "source": []
  }
 ],
 "metadata": {
  "kernelspec": {
   "display_name": "Python 3",
   "language": "python",
   "name": "python3"
  },
  "language_info": {
   "codemirror_mode": {
    "name": "ipython",
    "version": 3
   },
   "file_extension": ".py",
   "mimetype": "text/x-python",
   "name": "python",
   "nbconvert_exporter": "python",
   "pygments_lexer": "ipython3",
   "version": "3.7.6"
  }
 },
 "nbformat": 4,
 "nbformat_minor": 4
}
