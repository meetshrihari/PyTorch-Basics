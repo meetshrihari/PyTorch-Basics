{
 "cells": [
  {
   "cell_type": "markdown",
   "metadata": {},
   "source": [
    "# From Part 3.1 BRING ALL TOGETHER"
   ]
  },
  {
   "cell_type": "code",
   "execution_count": 1,
   "metadata": {},
   "outputs": [],
   "source": [
    "import numpy as np\n",
    "import matplotlib.pyplot as plt\n",
    "%matplotlib inline\n",
    "\n",
    "import torch\n",
    "import torch.nn as nn\n",
    "\n",
    "from torchvision.datasets import MNIST\n",
    "\n",
    "from torchvision import transforms\n",
    "\n",
    "from torch.utils.data import DataLoader\n",
    "\n",
    "import torch.nn.functional as F\n",
    "\n",
    "from torch.utils.data import random_split"
   ]
  },
  {
   "cell_type": "code",
   "execution_count": 2,
   "metadata": {},
   "outputs": [],
   "source": [
    "batch_size = 100\n",
    "img_size = 28*28\n",
    "n_classes = 10\n",
    "lr = 1e-4"
   ]
  },
  {
   "cell_type": "code",
   "execution_count": 3,
   "metadata": {},
   "outputs": [
    {
     "name": "stdout",
     "output_type": "stream",
     "text": [
      "Training Data =  60000\n",
      "Testing Data =  10000\n"
     ]
    }
   ],
   "source": [
    "train_data = MNIST( root='~/Developer/PyTorch_YouTube/DATA/', train = True, transform = transforms.ToTensor() )\n",
    "print('Training Data = ', len(train_data))\n",
    "\n",
    "test_data = MNIST( root ='~/Developer/PyTorch_YouTube/DATA/', train = False, transform = transforms.ToTensor())\n",
    "print('Testing Data = ', len(test_data))"
   ]
  },
  {
   "cell_type": "code",
   "execution_count": 4,
   "metadata": {},
   "outputs": [],
   "source": [
    "train_batch = DataLoader(dataset=train_data, batch_size=batch_size, shuffle=True)\n",
    "\n",
    "test_batch = DataLoader(dataset= test_data, batch_size=batch_size)\n",
    "\n",
    "# can be used only in for loop"
   ]
  },
  {
   "cell_type": "code",
   "execution_count": 5,
   "metadata": {},
   "outputs": [
    {
     "name": "stdout",
     "output_type": "stream",
     "text": [
      "50000 10000\n"
     ]
    }
   ],
   "source": [
    "train_set, val_set = random_split(train_data, [50000, 10000])\n",
    "\n",
    "print(len(train_set), len(val_set))"
   ]
  },
  {
   "cell_type": "markdown",
   "metadata": {},
   "source": [
    "# Train the Model\n",
    "for epoch in range(num_epochs):\n",
    "    # Training phase\n",
    "    for batch in test_set:\n",
    "         Generate predictions\n",
    "         Calculate loss\n",
    "         Compute gradients\n",
    "         Update weights\n",
    "         Reset gradients\n",
    "    \n",
    "    # Validation phase\n",
    "    for batch in val_set:\n",
    "         Generate predictions\n",
    "         Calculate loss\n",
    "         Calculate metrics (accuracy etc.)\n",
    "     Calculate average validation loss & metrics\n",
    "    \n",
    "     Log epoch, loss & metrics for inspection"
   ]
  },
  {
   "cell_type": "markdown",
   "metadata": {},
   "source": [
    "## Define Regression, Opti and Loss model"
   ]
  },
  {
   "cell_type": "code",
   "execution_count": 6,
   "metadata": {},
   "outputs": [],
   "source": [
    "model = nn.Linear(img_size, n_classes)\n",
    "\n",
    "cross_loss = nn.CrossEntropyLoss() # computes SoftMax internally\n",
    "\n",
    "opti = torch.optim.SGD(model.parameters(), lr = lr)        "
   ]
  },
  {
   "cell_type": "markdown",
   "metadata": {},
   "source": [
    "## Train the Models"
   ]
  },
  {
   "cell_type": "code",
   "execution_count": 13,
   "metadata": {},
   "outputs": [
    {
     "name": "stdout",
     "output_type": "stream",
     "text": [
      "Epoch 1/10, Step 200/600, Loss: 1.4856\n",
      "Epoch 1/10, Step 400/600, Loss: 1.4326\n",
      "Epoch 1/10, Step 600/600, Loss: 1.4968\n",
      "Epoch 2/10, Step 200/600, Loss: 1.4480\n",
      "Epoch 2/10, Step 400/600, Loss: 1.4697\n",
      "Epoch 2/10, Step 600/600, Loss: 1.4418\n",
      "Epoch 3/10, Step 200/600, Loss: 1.4471\n",
      "Epoch 3/10, Step 400/600, Loss: 1.3361\n",
      "Epoch 3/10, Step 600/600, Loss: 1.3758\n",
      "Epoch 4/10, Step 200/600, Loss: 1.3575\n",
      "Epoch 4/10, Step 400/600, Loss: 1.3642\n",
      "Epoch 4/10, Step 600/600, Loss: 1.4752\n",
      "Epoch 5/10, Step 200/600, Loss: 1.3548\n",
      "Epoch 5/10, Step 400/600, Loss: 1.3219\n",
      "Epoch 5/10, Step 600/600, Loss: 1.3321\n",
      "Epoch 6/10, Step 200/600, Loss: 1.3464\n",
      "Epoch 6/10, Step 400/600, Loss: 1.2775\n",
      "Epoch 6/10, Step 600/600, Loss: 1.2944\n",
      "Epoch 7/10, Step 200/600, Loss: 1.3248\n",
      "Epoch 7/10, Step 400/600, Loss: 1.3247\n",
      "Epoch 7/10, Step 600/600, Loss: 1.3595\n",
      "Epoch 8/10, Step 200/600, Loss: 1.3187\n",
      "Epoch 8/10, Step 400/600, Loss: 1.2644\n",
      "Epoch 8/10, Step 600/600, Loss: 1.2710\n",
      "Epoch 9/10, Step 200/600, Loss: 1.2893\n",
      "Epoch 9/10, Step 400/600, Loss: 1.3600\n",
      "Epoch 9/10, Step 600/600, Loss: 1.2195\n",
      "Epoch 10/10, Step 200/600, Loss: 1.2367\n",
      "Epoch 10/10, Step 400/600, Loss: 1.2828\n",
      "Epoch 10/10, Step 600/600, Loss: 1.2797\n"
     ]
    }
   ],
   "source": [
    "n_epoch = 25\n",
    "\n",
    "total_step = len(train_batch)  # 60,000 data size & 100 batches\n",
    "\n",
    "for epoch in range(n_epoch):\n",
    "    for i, (image, label) in enumerate(train_batch):\n",
    "        \n",
    "        # Flatten the image\n",
    "        img = image.reshape(-1, img_size)\n",
    "        \n",
    "        # Forward Pass\n",
    "        output = model(img)\n",
    "        loss = cross_loss(output, label)\n",
    "        \n",
    "        # Backward Pass\n",
    "        opti.zero_grad()\n",
    "        loss.backward()\n",
    "        opti.step() # performs a parameter update w -= w.grad*lr\n",
    "        \n",
    "        if (i+1)%200 ==0:\n",
    "            print('Epoch {}/{}, Step {}/{}, Loss: {:.4f}'\n",
    "                 .format(epoch+1, n_epoch, i+1, total_step, loss.item()))\n",
    "\n",
    "            "
   ]
  },
  {
   "cell_type": "code",
   "execution_count": null,
   "metadata": {},
   "outputs": [],
   "source": []
  },
  {
   "cell_type": "markdown",
   "metadata": {},
   "source": [
    "## Test the Model"
   ]
  },
  {
   "cell_type": "code",
   "execution_count": 14,
   "metadata": {},
   "outputs": [
    {
     "name": "stdout",
     "output_type": "stream",
     "text": [
      "Accuracy = 80 %\n"
     ]
    }
   ],
   "source": [
    "with torch.no_grad():\n",
    "    correct = 0\n",
    "    total = 0\n",
    "    for images, labels in test_batch: # test loader can be used in a for loop\n",
    "        img = images.reshape(-1, img_size)\n",
    "        \n",
    "        output = model(img)\n",
    "        \n",
    "        _, predicted = torch.max(output.data, 1)  # check maximum along rows\n",
    "        \n",
    "        correct += (predicted == labels).sum()\n",
    "        total += labels.size(0)\n",
    "    \n",
    "    print('Accuracy = {} %'.format(100*correct//total))"
   ]
  },
  {
   "cell_type": "code",
   "execution_count": null,
   "metadata": {
    "scrolled": true
   },
   "outputs": [],
   "source": []
  },
  {
   "cell_type": "markdown",
   "metadata": {},
   "source": [
    "# Testing with Individual Images\n",
    "\n",
    "At beginning we converted dataset compatiable to PyTorch = transforms.ToTensor()\\\n",
    "Therefore we have to undo the effect = use **transforms.ToPILImage()(img)**\\\n",
    "We will use **TEST Set**"
   ]
  },
  {
   "cell_type": "code",
   "execution_count": 27,
   "metadata": {},
   "outputs": [],
   "source": [
    "def flat_and_train(img, model):\n",
    "    img = img.reshape(-1, img.shape[1]*img.shape[2])\n",
    "    \n",
    "    output = model(img)\n",
    "    \n",
    "    _, guess = torch.max(output.data, 1)\n",
    "    \n",
    "    return guess"
   ]
  },
  {
   "cell_type": "code",
   "execution_count": 44,
   "metadata": {
    "scrolled": true
   },
   "outputs": [
    {
     "name": "stdout",
     "output_type": "stream",
     "text": [
      "tensor([8])\n"
     ]
    },
    {
     "data": {
      "image/png": "[encoded data removed]",
      "text/plain": [
       "<Figure size 432x288 with 1 Axes>"
      ]
     },
     "metadata": {
      "needs_background": "light"
     },
     "output_type": "display_data"
    }
   ],
   "source": [
    "img, label = test_data[991]\n",
    "\n",
    "plt.imshow(transforms.ToPILImage()(img), cmap = 'gray')\n",
    "prediction = flat_and_train(img, model)\n",
    "\n",
    "print(prediction)"
   ]
  },
  {
   "cell_type": "code",
   "execution_count": 63,
   "metadata": {},
   "outputs": [
    {
     "data": {
      "image/png": "[encoded data removed]",
      "text/plain": [
       "<Figure size 864x432 with 10 Axes>"
      ]
     },
     "metadata": {},
     "output_type": "display_data"
    }
   ],
   "source": [
    "run = range(100)\n",
    "fig, axs = plt.subplots(2,5, figsize=(12, 6), facecolor='w', edgecolor='k')\n",
    "axs = axs.ravel()\n",
    "for i in range(10):\n",
    "\n",
    "    choice = np.random.choice(range(1000))\n",
    "    img, label = test_data[choice]\n",
    "\n",
    "    prediction = flat_and_train(img, model)\n",
    "\n",
    "    axs[i].imshow(transforms.ToPILImage()(img), cmap = 'gray')\n",
    "    axs[i].set_xlabel(str(prediction))\n",
    "    axs[i].set_title(str(label))\n",
    "\n",
    "\n",
    "    "
   ]
  },
  {
   "cell_type": "code",
   "execution_count": 54,
   "metadata": {},
   "outputs": [
    {
     "name": "stdout",
     "output_type": "stream",
     "text": [
      "1\n"
     ]
    }
   ],
   "source": [
    "print(label)"
   ]
  },
  {
   "cell_type": "code",
   "execution_count": null,
   "metadata": {},
   "outputs": [],
   "source": []
  },
  {
   "cell_type": "code",
   "execution_count": null,
   "metadata": {},
   "outputs": [],
   "source": []
  },
  {
   "cell_type": "code",
   "execution_count": null,
   "metadata": {},
   "outputs": [],
   "source": []
  },
  {
   "cell_type": "code",
   "execution_count": null,
   "metadata": {},
   "outputs": [],
   "source": []
  },
  {
   "cell_type": "code",
   "execution_count": null,
   "metadata": {},
   "outputs": [],
   "source": []
  },
  {
   "cell_type": "code",
   "execution_count": null,
   "metadata": {},
   "outputs": [],
   "source": []
  },
  {
   "cell_type": "code",
   "execution_count": null,
   "metadata": {},
   "outputs": [],
   "source": []
  },
  {
   "cell_type": "code",
   "execution_count": null,
   "metadata": {},
   "outputs": [],
   "source": []
  },
  {
   "cell_type": "code",
   "execution_count": null,
   "metadata": {},
   "outputs": [],
   "source": []
  }
 ],
 "metadata": {
  "kernelspec": {
   "display_name": "Python 3",
   "language": "python",
   "name": "python3"
  },
  "language_info": {
   "codemirror_mode": {
    "name": "ipython",
    "version": 3
   },
   "file_extension": ".py",
   "mimetype": "text/x-python",
   "name": "python",
   "nbconvert_exporter": "python",
   "pygments_lexer": "ipython3",
   "version": "3.7.6"
  }
 },
 "nbformat": 4,
 "nbformat_minor": 4
}
